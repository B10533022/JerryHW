{
 "cells": [
  {
   "cell_type": "markdown",
   "metadata": {},
   "source": [
    "# HW1"
   ]
  },
  {
   "cell_type": "code",
   "execution_count": 29,
   "metadata": {},
   "outputs": [
    {
     "name": "stdout",
     "output_type": "stream",
     "text": [
      "輸入數字,用空格分開:1 2 3\n"
     ]
    },
    {
     "data": {
      "text/plain": [
       "[101, 102, 103]"
      ]
     },
     "execution_count": 29,
     "metadata": {},
     "output_type": "execute_result"
    }
   ],
   "source": [
    "list(map(lambda x : int(x) + 100, input('輸入數字,用空格分開:').split()))"
   ]
  },
  {
   "cell_type": "markdown",
   "metadata": {},
   "source": [
    "# HW2"
   ]
  },
  {
   "cell_type": "code",
   "execution_count": 22,
   "metadata": {},
   "outputs": [],
   "source": [
    "def multiply_ints(func):\n",
    "    def new(a,b):\n",
    "        result=func(a,b)\n",
    "        print('add_ints',result)\n",
    "        return ('multiply_ints',a*b)\n",
    "    return new"
   ]
  },
  {
   "cell_type": "code",
   "execution_count": 25,
   "metadata": {},
   "outputs": [
    {
     "name": "stdout",
     "output_type": "stream",
     "text": [
      "add_ints 12\n"
     ]
    },
    {
     "data": {
      "text/plain": [
       "('multiply_ints', 20)"
      ]
     },
     "execution_count": 25,
     "metadata": {},
     "output_type": "execute_result"
    }
   ],
   "source": [
    "@multiply_ints\n",
    "def add_ints(a,b):\n",
    "    return (a+b)\n",
    "\n",
    "add_ints(2,10)"
   ]
  },
  {
   "cell_type": "markdown",
   "metadata": {},
   "source": [
    "# HW3"
   ]
  },
  {
   "cell_type": "code",
   "execution_count": 34,
   "metadata": {},
   "outputs": [
    {
     "name": "stdout",
     "output_type": "stream",
     "text": [
      "請輸入整數:2.3\n",
      "出錯,請重新輸入\n"
     ]
    }
   ],
   "source": [
    "try:\n",
    "    x=int(input('請輸入整數:'))\n",
    "    print(x)\n",
    "except:\n",
    "    print('出錯,請重新輸入')"
   ]
  },
  {
   "cell_type": "markdown",
   "metadata": {},
   "source": [
    "# HW4"
   ]
  },
  {
   "cell_type": "code",
   "execution_count": 12,
   "metadata": {},
   "outputs": [
    {
     "name": "stdout",
     "output_type": "stream",
     "text": [
      "請輸入數字:as\n",
      "錯了笑你\n"
     ]
    }
   ],
   "source": [
    "from sources import calc\n",
    "try:\n",
    "    first = int(input('請輸入數字:'))\n",
    "    c = input('請輸入符號:')\n",
    "    second = int(input('請輸入數字:'))\n",
    "    calc.calculator(first,second,c)\n",
    "except:\n",
    "    print('錯了笑你')"
   ]
  },
  {
   "cell_type": "code",
   "execution_count": null,
   "metadata": {},
   "outputs": [],
   "source": []
  }
 ],
 "metadata": {
  "kernelspec": {
   "display_name": "Python 3",
   "language": "python",
   "name": "python3"
  },
  "language_info": {
   "codemirror_mode": {
    "name": "ipython",
    "version": 3
   },
   "file_extension": ".py",
   "mimetype": "text/x-python",
   "name": "python",
   "nbconvert_exporter": "python",
   "pygments_lexer": "ipython3",
   "version": "3.6.4"
  }
 },
 "nbformat": 4,
 "nbformat_minor": 2
}
